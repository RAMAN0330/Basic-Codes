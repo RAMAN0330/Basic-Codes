{
 "cells": [
  {
   "cell_type": "code",
   "execution_count": 3,
   "id": "914c137a-4219-4524-a5dc-89bb3b8e21b8",
   "metadata": {},
   "outputs": [
    {
     "name": "stdout",
     "output_type": "stream",
     "text": [
      "At 1st position is C\n",
      "At 2nd position is E\n",
      "At 3th position is A\n",
      "At 4st position is B\n",
      "At 5st position is D\n"
     ]
    }
   ],
   "source": [
    "\n",
    "def rankiing(scores):\n",
    "    ranks = [1 for i in range(len(scores))]\n",
    "    for score in scores:\n",
    "        rank = 1\n",
    "        num1 = []\n",
    "        for num in range(len(scores)):\n",
    "            if score < scores[num]:\n",
    "                rank +=1\n",
    "                if scores[num] in num1:\n",
    "                    rank -= 1\n",
    "                num1.append(scores[num])\n",
    "        ranks[scores.index(score)] = rank\n",
    "    return ranks\n",
    "\n",
    "\n",
    "data = open(\"ranking_data.txt\",\"r\")\n",
    "record = data.read()\n",
    "names= []\n",
    "scores = []\n",
    "\n",
    "record = record.split(\"\\n\")\n",
    "record = \",\".join(record)\n",
    "record = record.split(\",\")\n",
    "\n",
    "for i in range(0,len(record),2):\n",
    "    names.append(record[i])\n",
    "    scores.append(record[i+1])\n",
    "    \n",
    "positions = rankiing(scores)\n",
    "\n",
    "for length in range(1,len(scores)+1):\n",
    "    if length == 1:\n",
    "        print(f\"At {length}st position is {names[positions.index(min(positions))]}\")\n",
    "    elif length == 2:\n",
    "        print(f\"At {length}nd position is {names[positions.index(min(positions))]}\")\n",
    "    elif length == 3:\n",
    "        print(f\"At {length}th position is {names[positions.index(min(positions))]}\")\n",
    "    else:\n",
    "        print(f\"At {length}st position is {names[positions.index(min(positions))]}\")\n",
    "    none = names.pop(positions.index(min(positions)))\n",
    "    none = positions.pop(positions.index(min(positions)))"
   ]
  }
 ],
 "metadata": {
  "kernelspec": {
   "display_name": "Python 3 (ipykernel)",
   "language": "python",
   "name": "python3"
  },
  "language_info": {
   "codemirror_mode": {
    "name": "ipython",
    "version": 3
   },
   "file_extension": ".py",
   "mimetype": "text/x-python",
   "name": "python",
   "nbconvert_exporter": "python",
   "pygments_lexer": "ipython3",
   "version": "3.11.5"
  }
 },
 "nbformat": 4,
 "nbformat_minor": 5
}
