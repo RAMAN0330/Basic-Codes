{
 "cells": [
  {
   "cell_type": "code",
   "execution_count": 16,
   "id": "37e3ec94-0eb9-426b-8a31-27d10cb85181",
   "metadata": {},
   "outputs": [
    {
     "name": "stdout",
     "output_type": "stream",
     "text": [
      "Enter whose number to be factorialed :  7\n"
     ]
    },
    {
     "name": "stdout",
     "output_type": "stream",
     "text": [
      "Factorial is  5040\n"
     ]
    }
   ],
   "source": [
    "def factorial(n):\n",
    "    if n== 1:\n",
    "        return n\n",
    "    else:\n",
    "        return n*factorial(n-1)\n",
    "\n",
    "number = int(input(\"Enter whose number to be factorialed : \"))\n",
    "if number == 0:\n",
    "    print(\"Factorial is \",1)\n",
    "else:\n",
    "    print(\"Factorial is \",factorial(number))"
   ]
  }
 ],
 "metadata": {
  "kernelspec": {
   "display_name": "Python 3 (ipykernel)",
   "language": "python",
   "name": "python3"
  },
  "language_info": {
   "codemirror_mode": {
    "name": "ipython",
    "version": 3
   },
   "file_extension": ".py",
   "mimetype": "text/x-python",
   "name": "python",
   "nbconvert_exporter": "python",
   "pygments_lexer": "ipython3",
   "version": "3.11.5"
  }
 },
 "nbformat": 4,
 "nbformat_minor": 5
}
