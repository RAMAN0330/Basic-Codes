{
 "cells": [
  {
   "cell_type": "code",
   "execution_count": 1,
   "id": "f3986d0c-9495-411e-a005-c71846a34d6c",
   "metadata": {},
   "outputs": [
    {
     "name": "stdout",
     "output_type": "stream",
     "text": [
      "For Grocery's total amount to be paid is 1884 Rupees\n"
     ]
    }
   ],
   "source": [
    "items_price = {\"Soup\":45,\n",
    "               \"Pasta\":38,\n",
    "               \"Rice\":58,\n",
    "               \"Oil\":340,\n",
    "               \"Bread\":40}\n",
    "\n",
    "qty_bought ={\"Soup\":4,\n",
    "             \"Pasta\":3,\n",
    "             \"Rice\":15,\n",
    "             \"Oil\":2,\n",
    "             \"Bread\":1}\n",
    "\n",
    "\n",
    "price = items_price.values()\n",
    "qty = qty_bought.values()\n",
    "\n",
    "bill_amount =  0\n",
    "for amt,thing in zip(price,qty):\n",
    "    bill_amount += amt*thing\n",
    "    \n",
    "    \n",
    "print(\"For Grocery's total amount to be paid is {} Rupees\".format(bill_amount))"
   ]
  }
 ],
 "metadata": {
  "kernelspec": {
   "display_name": "Python 3 (ipykernel)",
   "language": "python",
   "name": "python3"
  },
  "language_info": {
   "codemirror_mode": {
    "name": "ipython",
    "version": 3
   },
   "file_extension": ".py",
   "mimetype": "text/x-python",
   "name": "python",
   "nbconvert_exporter": "python",
   "pygments_lexer": "ipython3",
   "version": "3.11.5"
  }
 },
 "nbformat": 4,
 "nbformat_minor": 5
}
