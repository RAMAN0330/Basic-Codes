{
 "cells": [
  {
   "cell_type": "code",
   "execution_count": 7,
   "id": "092efd30-cec7-43ff-bdf9-041cd3969dc9",
   "metadata": {},
   "outputs": [
    {
     "name": "stdout",
     "output_type": "stream",
     "text": [
      "Enter number of times you want to run the code : 1\n",
      "Enter 1st number :  100\n",
      "Enter 2nd number :  28\n"
     ]
    },
    {
     "name": "stdout",
     "output_type": "stream",
     "text": [
      "[1, 2, 4]\n"
     ]
    }
   ],
   "source": [
    "def gcd(m,n):\n",
    "    gcd_factor = []\n",
    "    if m%n == 0 :\n",
    "        gcd_factor.append(n)\n",
    "    for number in range(1,int(n/2)):\n",
    "        if m%number == 0 and n%number ==0:\n",
    "            gcd_factor.append(number)\n",
    "    return gcd_factor\n",
    "\n",
    "x = int(input(\"Enter number of times you want to run the code :\"))\n",
    "while x>0:\n",
    "    m = int(input(\"Enter 1st number : \"))\n",
    "    n = int(input(\"Enter 2nd number : \"))\n",
    "    if m>n:\n",
    "        print(gcd(m,n))\n",
    "    else:\n",
    "        print(gcd(n,m))\n",
    "    x -= 1"
   ]
  }
 ],
 "metadata": {
  "kernelspec": {
   "display_name": "Python 3 (ipykernel)",
   "language": "python",
   "name": "python3"
  },
  "language_info": {
   "codemirror_mode": {
    "name": "ipython",
    "version": 3
   },
   "file_extension": ".py",
   "mimetype": "text/x-python",
   "name": "python",
   "nbconvert_exporter": "python",
   "pygments_lexer": "ipython3",
   "version": "3.11.5"
  }
 },
 "nbformat": 4,
 "nbformat_minor": 5
}
