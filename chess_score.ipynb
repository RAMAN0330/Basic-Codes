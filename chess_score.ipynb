{
 "cells": [
  {
   "cell_type": "code",
   "execution_count": 36,
   "id": "87563b6c-58e3-441c-aa69-a392091c58e5",
   "metadata": {},
   "outputs": [
    {
     "name": "stdout",
     "output_type": "stream",
     "text": [
      "winner is E\n"
     ]
    }
   ],
   "source": [
    "# importing the module \n",
    "import pandas as pd\n",
    "import numpy as np\n",
    "\n",
    "#creating data frame for DATA.csv file not including header \n",
    "results = pd.read_csv(\"DATA.csv\", header = None)\n",
    "\n",
    "# converting dataframe into a 2-D list \n",
    "list_of_each_match = [[results[row][column] for row in range(len(results.columns))]for column in range(len(results))]\n",
    "\n",
    "#initializing score counter and players list \n",
    "Score_counter = {chr(id):0 for id in range(65,73)}\n",
    "list_of_players = [chr(id) for id in range(65,73)]\n",
    "\n",
    "# count wins for each player {palyer win point :2 , lose : 0 and draw each : 1} in given macthes\n",
    "for score in range(len(list_of_each_match)):\n",
    "    if list_of_each_match[score][0] in Score_counter.keys():\n",
    "        if list_of_each_match[score][2] == 2:\n",
    "            Score_counter[list_of_each_match[score][0]] += 1\n",
    "    if list_of_each_match[score][1] in Score_counter.keys():\n",
    "        if list_of_each_match[score][3] == 2:\n",
    "            Score_counter[list_of_each_match[score][1]] += 1\n",
    "\n",
    "\n",
    "#creating list for storing scores of each players\n",
    "list_of_score = list(Score_counter.values())\n",
    "\n",
    "#identifying the winner \n",
    "winner  = list_of_players[list_of_score.index(max(list_of_score))]\n",
    "\n",
    "#checking if anyone has same number of wins as winner \n",
    "demy = list_of_players.pop(list_of_players.index(winner))\n",
    "demy = list_of_score.pop(list_of_score.index(max(list_of_score)))\n",
    "\n",
    "winner2 = list_of_players[list_of_score.index(max(list_of_score))]\n",
    "\n",
    "if winner == winner2:\n",
    "    print(f\"Winner is {winner}\")\n",
    "else:\n",
    "    # filtering the tied up runner up \n",
    "    filt = results.loc[results[0] == winner]\n",
    "    filt = filt.loc[filt[1] == winner2]\n",
    "    indx = int(list(filt.index)[0])\n",
    "    filt.rename(index = {indx:0}, inplace=True)\n",
    "    filt = pd.DataFrame(filt) \n",
    "    if np.where(filt.at[0,2]>filt.at[0,3]):\n",
    "        print(f\"winner is {filt.at[0,0]}\")\n",
    "    else:\n",
    "        print(f\"winner is {filt.at[0,1]}\")\n"
   ]
  },
  {
   "cell_type": "code",
   "execution_count": null,
   "id": "3d833d65-1677-4d89-87f9-4358ebe54289",
   "metadata": {},
   "outputs": [],
   "source": []
  }
 ],
 "metadata": {
  "kernelspec": {
   "display_name": "Python 3 (ipykernel)",
   "language": "python",
   "name": "python3"
  },
  "language_info": {
   "codemirror_mode": {
    "name": "ipython",
    "version": 3
   },
   "file_extension": ".py",
   "mimetype": "text/x-python",
   "name": "python",
   "nbconvert_exporter": "python",
   "pygments_lexer": "ipython3",
   "version": "3.11.4"
  }
 },
 "nbformat": 4,
 "nbformat_minor": 5
}
