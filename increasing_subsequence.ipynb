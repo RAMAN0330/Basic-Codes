{
 "cells": [
  {
   "cell_type": "code",
   "execution_count": 15,
   "id": "31b586c5-aeab-46dd-ab36-90d279e6d3b9",
   "metadata": {},
   "outputs": [
    {
     "name": "stdout",
     "output_type": "stream",
     "text": [
      "----------         ------------------\n",
      "The Largest subsequence is of length 4 and it contain sub-sequence [[1, 32, 49, 54], [14, 45, 86, 95], [2, 11, 52, 83]]\n",
      "----------         ------------------\n"
     ]
    }
   ],
   "source": [
    "given_seq = [1, 32, 49, 54, 21, 16, 26, 79, 73, 90, 31, 27, 74, 56, 59, 6, 68, 8, 77, 67, 13, 22, 5, 88, 53, 40, 85, 46, 14, 45, 86, 95, 64, 42, 61, 62, 15, 39, 37, 10, 80, 28, 93, 25, 78, 63, 50, 3, 94, 47, 34, 19, 72, 4, 69, 17, 87, 60, 58, 82, 35, 36, 55, 33, 2, 11, 52, 83, 51, 12, 57, 44, 9, 92, 75, 84, 30, 20, 89, 29, 91, 38, 41, 23, 70, 66, 7, 24, 18, 71, 81, 76, 43, 48, 65, 96]\n",
    "sub_seq = []\n",
    "sub_list = []\n",
    "\n",
    "for current in range(len(given_seq)-1):\n",
    "    if given_seq[current] <= given_seq[current+1]:\n",
    "        sub_list.append(given_seq[current])\n",
    "    else:\n",
    "        sub_list.append(given_seq[current])\n",
    "        sub_seq.append(sub_list)\n",
    "        sub_list = []\n",
    "\n",
    "length_of_sub_sequence = [len(sub_seq[lis]) for lis in range(len(sub_seq))]\n",
    "largset_subsequence=[]\n",
    "for key, value in enumerate(length_of_sub_sequence):\n",
    "    if value == max(length_of_sub_sequence):\n",
    "        largset_subsequence.append(sub_seq[key])\n",
    "\n",
    "print(\"----------         ------------------\")\n",
    "print(f'The Largest subsequence is of length {max(length_of_sub_sequence)} and it contain sub-sequence {largset_subsequence}')\n",
    "print(\"----------         ------------------\")"
   ]
  }
 ],
 "metadata": {
  "kernelspec": {
   "display_name": "Python 3 (ipykernel)",
   "language": "python",
   "name": "python3"
  },
  "language_info": {
   "codemirror_mode": {
    "name": "ipython",
    "version": 3
   },
   "file_extension": ".py",
   "mimetype": "text/x-python",
   "name": "python",
   "nbconvert_exporter": "python",
   "pygments_lexer": "ipython3",
   "version": "3.11.5"
  }
 },
 "nbformat": 4,
 "nbformat_minor": 5
}
