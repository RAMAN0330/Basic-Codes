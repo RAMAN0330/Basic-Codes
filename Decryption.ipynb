{
 "cells": [
  {
   "cell_type": "code",
   "execution_count": 2,
   "id": "ca3e28ae-8383-436d-9e3f-3ed0febc8f3c",
   "metadata": {},
   "outputs": [
    {
     "name": "stdout",
     "output_type": "stream",
     "text": [
      "Original Arrangement:\n",
      "abcdefghijklmnopqrstuvwxyzABCDEFGHIJKLMNOPQRSTUVWXYZ\n",
      "New Arrangement:\n",
      "fYRKDwpibUNGzsleXQJCvohaTMFyrkdWPIBungZSLExqjcVOHAtm\n",
      "We will use this new arrangement for encryption.\n",
      "Encrypting the file 'news.txt'\n",
      "Encryption done and saved in 'news_enc.txt'\n",
      "Decrypting the same file.\n",
      "Decryption done.\n"
     ]
    }
   ],
   "source": [
    "from string import ascii_letters\n",
    "n=len(ascii_letters)\n",
    "new_alph=[0]*n\n",
    "for k in range(n):\n",
    "    letter=ascii_letters[k]\n",
    "    kk=(401*k+23)%n\n",
    "    new_alph[kk]=letter\n",
    "new_alph=''.join(new_alph)\n",
    "print(\"Original Arrangement:\")\n",
    "print(ascii_letters)\n",
    "print(\"New Arrangement:\")\n",
    "print(new_alph)\n",
    "print(\"We will use this new arrangement for encryption.\")\n",
    "print(\"Encrypting the file 'news.txt'\")\n",
    "text=open('news.txt','r').read()\n",
    "fout=open('news_enc.txt','w')\n",
    "for char in text:\n",
    "    if char in ascii_letters:\n",
    "        pos=ascii_letters.index(char)\n",
    "        fout.write(new_alph[pos])\n",
    "    else:\n",
    "        fout.write(char)\n",
    "fout.close()\n",
    "print(\"Encryption done and saved in 'news_enc.txt'\")\n",
    "print(\"Decrypting the same file.\")\n",
    "text=open(\"news_enc.txt\",\"r\").read()\n",
    "fout=open(\"Decrypted_news.txt\",\"w\")\n",
    "for char in text:\n",
    "    if char in ascii_letters:\n",
    "        pos=new_alph.index(char)\n",
    "        fout.write(ascii_letters[pos])\n",
    "    else:\n",
    "        fout.write(char)\n",
    "fout.close()\n",
    "print(\"Decryption done.\")"
   ]
  },
  {
   "cell_type": "code",
   "execution_count": null,
   "id": "f3099e6a-a66f-4440-a285-34118831021c",
   "metadata": {},
   "outputs": [],
   "source": []
  }
 ],
 "metadata": {
  "kernelspec": {
   "display_name": "Python 3 (ipykernel)",
   "language": "python",
   "name": "python3"
  },
  "language_info": {
   "codemirror_mode": {
    "name": "ipython",
    "version": 3
   },
   "file_extension": ".py",
   "mimetype": "text/x-python",
   "name": "python",
   "nbconvert_exporter": "python",
   "pygments_lexer": "ipython3",
   "version": "3.11.5"
  }
 },
 "nbformat": 4,
 "nbformat_minor": 5
}
